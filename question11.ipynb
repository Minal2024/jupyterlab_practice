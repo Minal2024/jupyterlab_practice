{
 "cells": [
  {
   "cell_type": "markdown",
   "id": "a1d96000-fef2-4bb9-bbc3-6d83b0ef8010",
   "metadata": {},
   "source": [
    "# Minal Nijhawan #"
   ]
  },
  {
   "cell_type": "markdown",
   "id": "0f608de9-7dae-4b9d-bdf0-85f32099b1b7",
   "metadata": {},
   "source": [
    "## Notebook for assignment 7 ##"
   ]
  },
  {
   "cell_type": "code",
   "execution_count": 1,
   "id": "8f5583ea-d1c9-457c-906d-e6188b933a27",
   "metadata": {},
   "outputs": [],
   "source": [
    "import pandas as pd"
   ]
  },
  {
   "cell_type": "code",
   "execution_count": 2,
   "id": "1874750a-842f-48f7-b033-1f9e4b1dfa90",
   "metadata": {},
   "outputs": [
    {
     "name": "stdout",
     "output_type": "stream",
     "text": [
      "5.0\n"
     ]
    }
   ],
   "source": [
    "def compute_mean(numbers):\n",
    "    mean = sum(numbers)/ len(numbers)\n",
    "    print(mean)\n",
    "\n",
    "compute_mean([2,4,6,8])\n",
    "\n",
    "                 "
   ]
  },
  {
   "cell_type": "markdown",
   "id": "3fa48b04-6f9b-48dc-bfbc-291baf04e045",
   "metadata": {},
   "source": [
    "equation of the mean written in Latex\n",
    "\n"
   ]
  },
  {
   "cell_type": "markdown",
   "id": "e9de509e-5982-4962-bb57-f3381b8fe80a",
   "metadata": {},
   "source": [
    "\n",
    "first way:\n",
    "\n",
    "$\\bar{x} = \\frac{x_1 + x_2 + \\cdots + x_n}{n}$\n",
    "\n",
    "second way\n",
    "\n",
    "$\\mu = \\frac{1}{n} \\sum_{i=1}^{n} x_i$\n"
   ]
  }
 ],
 "metadata": {
  "kernelspec": {
   "display_name": "Python 3 (ipykernel)",
   "language": "python",
   "name": "python3"
  },
  "language_info": {
   "codemirror_mode": {
    "name": "ipython",
    "version": 3
   },
   "file_extension": ".py",
   "mimetype": "text/x-python",
   "name": "python",
   "nbconvert_exporter": "python",
   "pygments_lexer": "ipython3",
   "version": "3.12.3"
  }
 },
 "nbformat": 4,
 "nbformat_minor": 5
}
